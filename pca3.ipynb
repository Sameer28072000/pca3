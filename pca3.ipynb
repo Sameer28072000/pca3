{
 "cells": [
  {
   "cell_type": "markdown",
   "id": "615835a9-84fc-4b88-920b-466de78bd4cf",
   "metadata": {},
   "source": [
    "Q1. What are Eigenvalues and Eigenvectors? How are they related to the Eigen-Decomposition approach?\n",
    "Explain with an example."
   ]
  },
  {
   "cell_type": "code",
   "execution_count": null,
   "id": "c1b8ec9e-4b66-45b9-9b52-d4575243ebda",
   "metadata": {},
   "outputs": [],
   "source": [
    "Ans:-Eigenvalues and Eigenvectors are used in PCA \n",
    "      when a matrix is multiplied by its eigenvector, the resulting vector is a scaled version of the original eigenvector. \n",
    "         The scaling factor is called the eigenvalue corresponding to that eigenvector.\n",
    "        ex:-AX=lambda(X)"
   ]
  },
  {
   "cell_type": "markdown",
   "id": "227b0c26-a714-402d-86ef-3ff85592819b",
   "metadata": {},
   "source": [
    "Q2. What is eigen decomposition and what is its significance in linear algebra?"
   ]
  },
  {
   "cell_type": "code",
   "execution_count": null,
   "id": "31657c06-eb95-4fbe-bffb-4cbcfbab4da7",
   "metadata": {},
   "outputs": [],
   "source": [
    "Ans:- It is a fundamental concept in linear algebra that decomposes a matrix into a set of eigenvectors and eigenvalues. \n",
    "      significance in linear algebra:-\n",
    "       i.Diagonalization\n",
    "        ii.PCA\n",
    "         iii.characteristics"
   ]
  },
  {
   "cell_type": "markdown",
   "id": "c6bbacee-bfdf-4a76-a120-812202cd9cf0",
   "metadata": {},
   "source": [
    "Q3. What are the conditions that must be satisfied for a square matrix to be diagonalizable using the\n",
    "Eigen-Decomposition approach? Provide a brief proof to support your answer."
   ]
  },
  {
   "cell_type": "code",
   "execution_count": null,
   "id": "af418c72-758b-4c0d-a691-b33863c9e3bf",
   "metadata": {},
   "outputs": [],
   "source": [
    "Ans:-A square matrix can be diagonalizable using the eigen-decomposition.\n",
    "      i.linear independence\n",
    "       ii.Algebraic Multiplicity"
   ]
  },
  {
   "cell_type": "markdown",
   "id": "47b929ed-e50f-459f-b472-5f572fa0e6a6",
   "metadata": {},
   "source": [
    "Q4. What is the significance of the spectral theorem in the context of the Eigen-Decomposition approach?\n",
    "How is it related to the diagonalizability of a matrix? Explain with an example."
   ]
  },
  {
   "cell_type": "code",
   "execution_count": null,
   "id": "8076c08d-90e6-4822-b856-567a19e835c5",
   "metadata": {},
   "outputs": [],
   "source": [
    "Ans:-The spectral theorem is a fundamental result in linear algebra \n",
    "       that establishes a connection between the eigenvalues, eigenvectors.\n",
    "        i.Diagonalization\n",
    "         ii.orthogonal Transformation\n",
    "            \n",
    "            The spectral theorem assures us that for any symmetric matrix,\n",
    "            there exists an orthogonal transformation that will diagonalize it."
   ]
  },
  {
   "cell_type": "markdown",
   "id": "b612d523-4963-4a52-899d-24cab9646aa0",
   "metadata": {},
   "source": [
    "Q5. How do you find the eigenvalues of a matrix and what do they represent?"
   ]
  },
  {
   "cell_type": "code",
   "execution_count": null,
   "id": "c336629b-8b18-4464-b2a3-f8d9d535ee6d",
   "metadata": {},
   "outputs": [],
   "source": [
    "Ans:-To find the eigenvalues of a matrix, you need to solve the characteristic equation associated with the matrix. \n",
    "      i.characteristics linear transformer\n",
    "       ii.Stability analysis\n",
    "        iii.PCA\n",
    "         iv.matrix properties"
   ]
  },
  {
   "cell_type": "markdown",
   "id": "2d9107e8-6f4b-4277-97c3-8390f65aed44",
   "metadata": {},
   "source": [
    "Q6. What are eigenvectors and how are they related to eigenvalues?"
   ]
  },
  {
   "cell_type": "code",
   "execution_count": null,
   "id": "43718d88-a626-4648-8297-e5780819b433",
   "metadata": {},
   "outputs": [],
   "source": [
    "Ans:-Eigenvectors are a fundamental concept in linear algebra that are closely related to eigenvalues.\n",
    "      AX=lambda(X)\n",
    "    \n",
    "    The relationship between eigenvectors and eigenvalues can be summarized as follows:\n",
    "\n",
    "    Eigenvalues determine the scaling factor by which eigenvectors are stretched or compressed when multiplied by the matrix.\n",
    "      Eigenvectors provide the direction or orientation along which the scaling occurs.\n",
    "            "
   ]
  },
  {
   "cell_type": "markdown",
   "id": "dd06abcc-75e9-4fca-ac8a-ae22e24e4e85",
   "metadata": {},
   "source": [
    "Q7. Can you explain the geometric interpretation of eigenvectors and eigenvalues?"
   ]
  },
  {
   "cell_type": "code",
   "execution_count": null,
   "id": "cc612f53-2f3c-48b4-9b0d-817a23f29f9a",
   "metadata": {},
   "outputs": [],
   "source": [
    "Ans:-\n",
    "       Eigenvectors:-\n",
    "\n",
    "        Geometrically, an eigenvector represents a direction in the vector space that\n",
    "           remains unchanged (up to scaling) when transformed by the matrix.\n",
    "            \n",
    "            Eigenvalues:-\n",
    "\n",
    "            Geometrically, eigenvalues represent the scaling factors by which the corresponding eigenvectors are stretched or\n",
    "              compressed when transformed by the matrix."
   ]
  },
  {
   "cell_type": "markdown",
   "id": "3267ffaa-1f0b-488c-8c55-b5cdca27715e",
   "metadata": {},
   "source": [
    "Q8. What are some real-world applications of eigen decomposition?"
   ]
  },
  {
   "cell_type": "code",
   "execution_count": null,
   "id": "46357a75-f8ed-4a82-ad34-49b9dff0b5cb",
   "metadata": {},
   "outputs": [],
   "source": [
    "Ans:- some real-world applications of eigen decomposition:-\n",
    "       i.PCA\n",
    "        ii.Recommendation systems\n",
    "          iii.network analysis\n",
    "            iv.machine learning"
   ]
  },
  {
   "cell_type": "markdown",
   "id": "8c2d663c-9856-4fe3-8c75-6f29c9af36c3",
   "metadata": {},
   "source": [
    "Q9. Can a matrix have more than one set of eigenvectors and eigenvalues?"
   ]
  },
  {
   "cell_type": "code",
   "execution_count": null,
   "id": "c762d466-6905-4f3d-a96b-6489a0e348fa",
   "metadata": {},
   "outputs": [],
   "source": [
    "Ans:- The number of distinct eigenvalues and corresponding eigenvectors depends on the properties of the matrix .\n",
    "       i.Distinct eigenvalues\n",
    "        ii.Repated eigen values\n",
    "        \n",
    "          The eigenvectors associated with the same eigenvalue form a subspace called the eigenspace, and \n",
    "               The eigenvalues represent the scaling factors along the corresponding eigenvector directions."
   ]
  },
  {
   "cell_type": "markdown",
   "id": "97554a40-f12a-458e-85b3-18413ea790c0",
   "metadata": {},
   "source": [
    "Q10. In what ways is the Eigen-Decomposition approach useful in data analysis and machine learning?\n",
    "Discuss at least three specific applications or techniques that rely on Eigen-Decomposition."
   ]
  },
  {
   "cell_type": "code",
   "execution_count": null,
   "id": "1f6bc1bc-0ec5-4bc6-a289-c99a006b44bd",
   "metadata": {},
   "outputs": [],
   "source": [
    "Ans:-"
   ]
  }
 ],
 "metadata": {
  "kernelspec": {
   "display_name": "Python 3 (ipykernel)",
   "language": "python",
   "name": "python3"
  },
  "language_info": {
   "codemirror_mode": {
    "name": "ipython",
    "version": 3
   },
   "file_extension": ".py",
   "mimetype": "text/x-python",
   "name": "python",
   "nbconvert_exporter": "python",
   "pygments_lexer": "ipython3",
   "version": "3.10.8"
  }
 },
 "nbformat": 4,
 "nbformat_minor": 5
}
